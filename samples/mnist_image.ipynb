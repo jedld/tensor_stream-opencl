{
 "cells": [
  {
   "cell_type": "markdown",
   "metadata": {},
   "source": [
    "In this notebook will be demonstrating how to train using convolutional networks using TensorStream and its OpenCL backend.\n",
    "\n",
    "Note that code here is based on Martin Gorner's talk in \"TensorFlow and Deep Learning without a PhD, Part 1 (Google Cloud Next '17)\"\"\n",
    "\n",
    "https://www.youtube.com/watch?v=u4alGiomYP4"
   ]
  },
  {
   "cell_type": "markdown",
   "metadata": {},
   "source": [
    "Include the OpenCL backend as working with images is compute intensive. Note that this requires OpenCL to be configured properly on your machine."
   ]
  },
  {
   "cell_type": "code",
   "execution_count": 1,
   "metadata": {},
   "outputs": [
    {
     "name": "stderr",
     "output_type": "stream",
     "text": [
      "Warning OpenCL 2.0 loader detected!\n"
     ]
    },
    {
     "name": "stdout",
     "output_type": "stream",
     "text": [
      "Tensorstream version 1.0.0 with OpenCL lib 0.2.8\n"
     ]
    }
   ],
   "source": [
    "require 'tensor_stream'\n",
    "require 'mnist-learn'\n",
    "require 'csv'\n",
    "\n",
    "require 'tensor_stream/opencl'\n",
    "\n",
    "ts = TensorStream\n",
    "puts \"Tensorstream version #{ts.__version__} with OpenCL lib #{TensorStream::Opencl::VERSION}\""
   ]
  },
  {
   "cell_type": "markdown",
   "metadata": {},
   "source": [
    "Download the MNIST data set which we will use for training the network"
   ]
  },
  {
   "cell_type": "code",
   "execution_count": 2,
   "metadata": {},
   "outputs": [
    {
     "name": "stdout",
     "output_type": "stream",
     "text": [
      "downloading minst data\n",
      "downloading finished\n"
     ]
    }
   ],
   "source": [
    "# Import MNIST data\n",
    "puts \"downloading minst data\"\n",
    "# Download images and labels into mnist.test (10K images+labels) and mnist.train (60K images+labels)\n",
    "mnist = Mnist.read_data_sets('/tmp/data', one_hot: true)\n",
    "\n",
    "puts \"downloading finished\""
   ]
  },
  {
   "cell_type": "markdown",
   "metadata": {},
   "source": [
    "Setup parameters that we will use for the network:"
   ]
  },
  {
   "cell_type": "code",
   "execution_count": 3,
   "metadata": {},
   "outputs": [
    {
     "data": {
      "text/plain": [
       "2000"
      ]
     },
     "execution_count": 3,
     "metadata": {},
     "output_type": "execute_result"
    }
   ],
   "source": [
    "K = 4 # first convolutional layer output depth\n",
    "L = 8 # second convolutional layer output depth\n",
    "M = 12 # third convolutional layer\n",
    "N = 200 # fully connected layer\n",
    "EPOCH = 2000"
   ]
  },
  {
   "cell_type": "markdown",
   "metadata": {},
   "source": [
    "Setup placeholders. Placeholders are like input parameters that your model can accept and has no definite value until you give it one during sess.run"
   ]
  },
  {
   "cell_type": "code",
   "execution_count": 4,
   "metadata": {},
   "outputs": [
    {
     "data": {
      "text/plain": [
       "Placeholder(Placeholder_4 shape: ? data_type: float32)"
      ]
     },
     "execution_count": 4,
     "metadata": {},
     "output_type": "execute_result"
    }
   ],
   "source": [
    "# input X: 28x28 grayscale images, the first dimension (None) will index the images in the mini-batch\n",
    "x = ts.placeholder(:float32, shape: [nil, 28, 28, 1])\n",
    "\n",
    "# correct answers will go here\n",
    "y_ = ts.placeholder(:float32, shape: [nil, 10])\n",
    "\n",
    "# step for variable learning rate\n",
    "step_ = ts.placeholder(:int32)\n",
    "\n",
    "pkeep = ts.placeholder(:float32)"
   ]
  },
  {
   "cell_type": "markdown",
   "metadata": {},
   "source": [
    "Here we declare variables. The contents of these variables are randomized initially, however this get updated automatically during training. Variables contain the weights of the network and the values serves as neural connections that make the system learn."
   ]
  },
  {
   "cell_type": "code",
   "execution_count": 5,
   "metadata": {},
   "outputs": [
    {
     "data": {
      "text/plain": [
       "Variable(Variable_10:0 shape: TensorShape([Dimension(10)]) data_type: float32)"
      ]
     },
     "execution_count": 5,
     "metadata": {},
     "output_type": "execute_result"
    }
   ],
   "source": [
    "w1 = ts.variable(ts.truncated_normal([6, 6, 1, K], stddev: 0.1))\n",
    "b1 = ts.variable(ts.ones([K])/10)\n",
    "\n",
    "w2 = ts.variable(ts.truncated_normal([5, 5, K, L], stddev: 0.1))\n",
    "b2 = ts.variable(ts.ones([L])/10)\n",
    "\n",
    "w3 = ts.variable(ts.truncated_normal([4, 4, L, M], stddev: 0.1))\n",
    "b3 = ts.variable(ts.ones([M])/10)\n",
    "\n",
    "w4 = ts.variable(ts.truncated_normal([7 * 7 * M, N], stddev: 0.1))\n",
    "b4 = ts.variable(ts.ones([N])/10)\n",
    "\n",
    "w5 = ts.variable(ts.truncated_normal([N, 10], stddev: 0.1))\n",
    "b5 = ts.variable(ts.ones([10])/10)\n"
   ]
  },
  {
   "cell_type": "markdown",
   "metadata": {},
   "source": [
    "Here we declare the model itself. These define the computation that make up the structure of the neural network. In this case we are setting up 3 convolutional layers and 2 fully connected layers. We are also using relu as the activiation functions. The kinds of functions to use are based on decades of research and this can change depending on new findings."
   ]
  },
  {
   "cell_type": "code",
   "execution_count": 6,
   "metadata": {},
   "outputs": [
    {
     "data": {
      "text/plain": [
       "Op(softmax name: out shape: ? data_type: float32)"
      ]
     },
     "execution_count": 6,
     "metadata": {},
     "output_type": "execute_result"
    }
   ],
   "source": [
    "# The model\n",
    "stride = 1  # output is 28x28\n",
    "y1 = ts.nn.relu(ts.nn.conv2d(x.reshape([-1, 28, 28, 1]), w1, [1, stride, stride, 1], 'SAME') + b1)\n",
    "stride = 2  # output is 14x14\n",
    "y2 = ts.nn.relu(ts.nn.conv2d(y1, w2, [1, stride, stride, 1], 'SAME') + b2)\n",
    "stride = 2  # output is 7x7\n",
    "y3 = ts.nn.relu(ts.nn.conv2d(y2, w3, [1, stride, stride, 1], 'SAME') + b3)\n",
    "\n",
    "# reshape the output from the third convolution for the fully connected layer\n",
    "yy = y3.reshape([-1, 7 * 7 * M])\n",
    "y4 = ts.nn.relu(ts.matmul(yy, w4) + b4)\n",
    "\n",
    "ylogits = ts.matmul(y4, w5) + b5\n",
    "\n",
    "# model\n",
    "y = ts.nn.softmax(ylogits, name: 'out')"
   ]
  },
  {
   "cell_type": "markdown",
   "metadata": {},
   "source": [
    "Now we define the error function to use and the optimization algorithm. There are various error functions to choose from as well as optimization algorithms, most have their pros and cons. However for this type of neural network the softmax cross entropy and the Adam optimizer seems the most appropriate."
   ]
  },
  {
   "cell_type": "code",
   "execution_count": 7,
   "metadata": {},
   "outputs": [
    {
     "data": {
      "text/plain": [
       "Op(flow_group name: Adam/flow_group shape: TensorShape([Dimension(12)]) data_type: )"
      ]
     },
     "execution_count": 7,
     "metadata": {},
     "output_type": "execute_result"
    }
   ],
   "source": [
    "cross_entropy = ts.nn.softmax_cross_entropy_with_logits(logits: ylogits, labels: y_)\n",
    "cross_entropy = ts.reduce_mean(cross_entropy)*100\n",
    "\n",
    "is_correct = ts.equal(ts.argmax(y, 1), ts.argmax(y_, 1))\n",
    "accuracy =  ts.reduce_mean(is_correct.cast(:float32))\n",
    "\n",
    "# training step, learning rate = 0.003\n",
    "lr = 0.0001.t +  ts.train.exponential_decay(0.003, step_, 2000, 1/Math::E)\n",
    "train_step = TensorStream::Train::AdamOptimizer.new(lr).minimize(cross_entropy)"
   ]
  },
  {
   "cell_type": "markdown",
   "metadata": {},
   "source": [
    "Setup test data and use a saver so that progress can be continued on the next run. Here we also\n",
    "initialize the variables, otherwise they will contain null values and cause errors during the next sess.run"
   ]
  },
  {
   "cell_type": "code",
   "execution_count": 10,
   "metadata": {},
   "outputs": [
    {
     "ename": "Interrupt",
     "evalue": "",
     "output_type": "error",
     "traceback": [
      "\u001b[31mInterrupt\u001b[0m: ",
      "\u001b[37m/home/jedld/.rvm/gems/ruby-2.5.1/gems/czmq-ffi-gen-0.15.0/lib/czmq-ffi-gen/errors.rb:10:in `zmq_errno'\u001b[0m",
      "\u001b[37m/home/jedld/.rvm/gems/ruby-2.5.1/gems/czmq-ffi-gen-0.15.0/lib/czmq-ffi-gen/errors.rb:10:in `strerror'\u001b[0m",
      "\u001b[37m/home/jedld/.rvm/gems/ruby-2.5.1/gems/cztop-0.13.1/lib/cztop/has_ffi_delegate.rb:48:in `raise_zmq_err'\u001b[0m",
      "\u001b[37m/home/jedld/.rvm/gems/ruby-2.5.1/gems/cztop-0.13.1/lib/cztop/message.rb:76:in `receive_from'\u001b[0m",
      "\u001b[37m/home/jedld/.rvm/gems/ruby-2.5.1/gems/cztop-0.13.1/lib/cztop/send_receive_methods.rb:32:in `receive'\u001b[0m",
      "\u001b[37m/home/jedld/.rvm/gems/ruby-2.5.1/gems/iruby-0.3/lib/iruby/session/cztop.rb:59:in `recv'\u001b[0m",
      "\u001b[37m/home/jedld/.rvm/gems/ruby-2.5.1/gems/iruby-0.3/lib/iruby/kernel.rb:42:in `dispatch'\u001b[0m",
      "\u001b[37m/home/jedld/.rvm/gems/ruby-2.5.1/gems/iruby-0.3/lib/iruby/kernel.rb:37:in `run'\u001b[0m",
      "\u001b[37m/home/jedld/.rvm/gems/ruby-2.5.1/gems/iruby-0.3/lib/iruby/command.rb:70:in `run_kernel'\u001b[0m",
      "\u001b[37m/home/jedld/.rvm/gems/ruby-2.5.1/gems/iruby-0.3/lib/iruby/command.rb:34:in `run'\u001b[0m",
      "\u001b[37m/home/jedld/.rvm/gems/ruby-2.5.1/gems/iruby-0.3/bin/iruby:5:in `<top (required)>'\u001b[0m",
      "\u001b[37m/home/jedld/.rvm/gems/ruby-2.5.1/bin/iruby:23:in `load'\u001b[0m",
      "\u001b[37m/home/jedld/.rvm/gems/ruby-2.5.1/bin/iruby:23:in `<main>'\u001b[0m",
      "\u001b[37m/home/jedld/.rvm/gems/ruby-2.5.1/bin/ruby_executable_hooks:24:in `eval'\u001b[0m",
      "\u001b[37m/home/jedld/.rvm/gems/ruby-2.5.1/bin/ruby_executable_hooks:24:in `<main>'\u001b[0m"
     ]
    }
   ],
   "source": [
    "sess = ts.session\n",
    "# Add ops to save and restore all the variables.\n",
    "\n",
    "init = ts.global_variables_initializer\n",
    "\n",
    "sess.run(init)\n",
    "\n",
    "#Setup save and restore\n",
    "model_save_path = \"test_models/mnist_data_3.0\"\n",
    "saver = TensorStream::Train::Saver.new\n",
    "saver.restore(sess, model_save_path)\n",
    "\n",
    "mnist_train = mnist.train\n",
    "test_data = { x => mnist.test.images, y_ => mnist.test.labels, pkeep => 1.0 }\n",
    "\n",
    "nil"
   ]
  },
  {
   "cell_type": "code",
   "execution_count": 9,
   "metadata": {},
   "outputs": [
    {
     "name": "stdout",
     "output_type": "stream",
     "text": [
      "0: accuracy:0.9599999785423279 loss:15.933753967285156 (lr:0.003100000089034438)\n",
      "0: ******** test accuracy: 0.9283999800682068 test loss: 2699.62841796875\n",
      "10: accuracy:0.949999988079071 loss:11.798951148986816 (lr:0.003085037227720022)\n",
      "20: accuracy:0.9399999976158142 loss:13.785243034362793 (lr:0.003070149337872863)\n",
      "30: accuracy:0.9300000071525574 loss:29.51731300354004 (lr:0.003055335721001029)\n",
      "40: accuracy:0.9700000286102295 loss:7.979790687561035 (lr:0.0030405959114432335)\n",
      "50: accuracy:0.9300000071525574 loss:22.561899185180664 (lr:0.0030259296763688326)\n",
      "60: accuracy:0.9700000286102295 loss:17.135129928588867 (lr:0.003011336550116539)\n",
      "70: accuracy:0.949999988079071 loss:12.989716529846191 (lr:0.002996816299855709)\n",
      "80: accuracy:0.9599999785423279 loss:23.976905822753906 (lr:0.002982368227094412)\n",
      "90: accuracy:0.8999999761581421 loss:25.88566017150879 (lr:0.002967992564663291)\n",
      "100: accuracy:0.9700000286102295 loss:9.034774780273438 (lr:0.002953688381239772)\n",
      "100: ******** test accuracy: 0.9628000259399414 test loss: 1461.940185546875\n",
      "110: accuracy:0.9599999785423279 loss:11.933794975280762 (lr:0.002939455443993211)\n",
      "120: accuracy:0.9300000071525574 loss:25.46670150756836 (lr:0.002925293752923608)\n",
      "130: accuracy:0.9399999976158142 loss:21.21111297607422 (lr:0.0029112021438777447)\n",
      "140: accuracy:1.0 loss:4.727890968322754 (lr:0.002897181548178196)\n",
      "150: accuracy:0.9700000286102295 loss:6.854841232299805 (lr:0.002883230336010456)\n",
      "160: accuracy:0.9200000166893005 loss:29.101383209228516 (lr:0.0028693489730358124)\n",
      "170: accuracy:1.0 loss:3.9741010665893555 (lr:0.002855536760762334)\n",
      "180: accuracy:0.9700000286102295 loss:6.293881893157959 (lr:0.0028417936991900206)\n",
      "190: accuracy:1.0 loss:4.598720550537109 (lr:0.002828118856996298)\n",
      "200: accuracy:0.949999988079071 loss:11.564444541931152 (lr:0.0028145122341811657)\n",
      "200: ******** test accuracy: 0.9682000279426575 test loss: 1092.38916015625\n",
      "210: accuracy:0.9700000286102295 loss:9.555869102478027 (lr:0.0028009735979139805)\n",
      "220: accuracy:0.9800000190734863 loss:5.317028999328613 (lr:0.002787502482533455)\n",
      "230: accuracy:0.9700000286102295 loss:8.040860176086426 (lr:0.0027740984223783016)\n",
      "240: accuracy:0.9700000286102295 loss:10.434488296508789 (lr:0.002760761184617877)\n",
      "250: accuracy:0.9800000190734863 loss:5.38808012008667 (lr:0.002747490769252181)\n",
      "260: accuracy:0.9599999785423279 loss:12.20152473449707 (lr:0.002734286244958639)\n",
      "270: accuracy:0.9900000095367432 loss:3.077124834060669 (lr:0.002721147844567895)\n",
      "280: accuracy:0.9700000286102295 loss:7.027272701263428 (lr:0.0027080748695880175)\n",
      "290: accuracy:0.9599999785423279 loss:16.264310836791992 (lr:0.002695067087188363)\n",
      "300: accuracy:0.9700000286102295 loss:8.991308212280273 (lr:0.002682123798877001)\n",
      "300: ******** test accuracy: 0.9660000205039978 test loss: 1412.0006103515625\n",
      "310: accuracy:0.9900000095367432 loss:6.156497001647949 (lr:0.002669245470315218)\n",
      "320: accuracy:0.9800000190734863 loss:3.826826810836792 (lr:0.0026564314030110836)\n",
      "330: accuracy:0.9700000286102295 loss:10.53378677368164 (lr:0.0026436811313033104)\n",
      "340: accuracy:0.9900000095367432 loss:4.218532085418701 (lr:0.0026309946551918983)\n",
      "350: accuracy:0.9900000095367432 loss:4.505715847015381 (lr:0.0026183712761849165)\n",
      "360: accuracy:0.9900000095367432 loss:5.784036159515381 (lr:0.002605810761451721)\n",
      "370: accuracy:0.9900000095367432 loss:4.932862281799316 (lr:0.0025933128781616688)\n",
      "380: accuracy:0.9700000286102295 loss:10.328872680664062 (lr:0.0025808773934841156)\n",
      "390: accuracy:0.9900000095367432 loss:3.35548996925354 (lr:0.002568504074588418)\n",
      "400: accuracy:0.9700000286102295 loss:5.675891876220703 (lr:0.0025561924558132887)\n",
      "400: ******** test accuracy: 0.9735000133514404 test loss: 1068.105224609375\n",
      "410: accuracy:0.9900000095367432 loss:3.3151674270629883 (lr:0.0025439420714974403)\n",
      "420: accuracy:0.9900000095367432 loss:2.646207571029663 (lr:0.002531752921640873)\n",
      "430: accuracy:0.949999988079071 loss:15.31964111328125 (lr:0.0025196243077516556)\n",
      "440: accuracy:0.949999988079071 loss:15.334563255310059 (lr:0.002507556462660432)\n",
      "450: accuracy:0.9900000095367432 loss:5.680765151977539 (lr:0.002495548687875271)\n",
      "460: accuracy:0.9599999785423279 loss:6.461648464202881 (lr:0.0024836009833961725)\n",
      "470: accuracy:0.9900000095367432 loss:4.117606163024902 (lr:0.0024717124179005623)\n",
      "480: accuracy:0.9800000190734863 loss:4.43185567855835 (lr:0.002459883689880371)\n",
      "490: accuracy:0.9599999785423279 loss:11.783940315246582 (lr:0.0024481136351823807)\n",
      "500: accuracy:1.0 loss:1.5767478942871094 (lr:0.0024364024866372347)\n",
      "500: ******** test accuracy: 0.9782999753952026 test loss: 843.5567016601562\n",
      "510: accuracy:0.9800000190734863 loss:3.927738666534424 (lr:0.002424749545753002)\n",
      "520: accuracy:1.0 loss:1.8157836198806763 (lr:0.0024131545796990395)\n",
      "530: accuracy:0.9700000286102295 loss:4.323674201965332 (lr:0.0024016178213059902)\n",
      "540: accuracy:0.9700000286102295 loss:8.708285331726074 (lr:0.00239013833925128)\n",
      "550: accuracy:1.0 loss:1.5547138452529907 (lr:0.002378716366365552)\n",
      "560: accuracy:0.9900000095367432 loss:5.274013042449951 (lr:0.0023673512041568756)\n",
      "570: accuracy:0.9900000095367432 loss:4.134397029876709 (lr:0.002356042852625251)\n",
      "580: accuracy:0.9900000095367432 loss:4.712724685668945 (lr:0.0023447906132787466)\n",
      "590: accuracy:1.0 loss:2.3797760009765625 (lr:0.0023335947189480066)\n",
      "600: accuracy:0.9900000095367432 loss:2.464310884475708 (lr:0.0023224544711411)\n",
      "600: ******** test accuracy: 0.9768999814987183 test loss: 969.0513916015625\n",
      "610: accuracy:0.9800000190734863 loss:4.269423484802246 (lr:0.00231137010268867)\n",
      "620: accuracy:0.9900000095367432 loss:1.96079683303833 (lr:0.0023003409150987864)\n",
      "630: accuracy:0.9900000095367432 loss:3.370682954788208 (lr:0.002289366675540805)\n",
      "640: accuracy:0.9900000095367432 loss:3.629244804382324 (lr:0.002278447151184082)\n",
      "650: accuracy:0.9900000095367432 loss:2.6084139347076416 (lr:0.002267582109197974)\n",
      "660: accuracy:0.9700000286102295 loss:10.114944458007812 (lr:0.0022567713167518377)\n",
      "670: accuracy:0.9800000190734863 loss:7.03450870513916 (lr:0.0022460143081843853)\n",
      "680: accuracy:0.9900000095367432 loss:2.3672995567321777 (lr:0.002235311083495617)\n",
      "690: accuracy:0.9900000095367432 loss:2.9936716556549072 (lr:0.0022246609441936016)\n",
      "700: accuracy:0.9900000095367432 loss:3.0124707221984863 (lr:0.0022140643559396267)\n",
      "700: ******** test accuracy: 0.9732999801635742 test loss: 1081.31103515625\n",
      "710: accuracy:0.9800000190734863 loss:4.998941421508789 (lr:0.0022035203874111176)\n",
      "720: accuracy:0.9900000095367432 loss:3.2429025173187256 (lr:0.002193029038608074)\n",
      "730: accuracy:0.9900000095367432 loss:5.626744270324707 (lr:0.0021825898438692093)\n",
      "740: accuracy:0.9900000095367432 loss:1.948408603668213 (lr:0.0021722030360251665)\n",
      "750: accuracy:0.9900000095367432 loss:6.581701278686523 (lr:0.0021618676837533712)\n",
      "760: accuracy:0.9800000190734863 loss:6.1198039054870605 (lr:0.0021515842527151108)\n",
      "770: accuracy:1.0 loss:2.308049201965332 (lr:0.002141352044418454)\n",
      "780: accuracy:1.0 loss:1.1454635858535767 (lr:0.002131170593202114)\n",
      "790: accuracy:0.9900000095367432 loss:3.5103325843811035 (lr:0.002121040364727378)\n",
      "800: accuracy:1.0 loss:0.9047347903251648 (lr:0.0021109601948410273)\n",
      "800: ******** test accuracy: 0.9776999950408936 test loss: 1062.073974609375\n",
      "810: accuracy:0.9800000190734863 loss:3.2006778717041016 (lr:0.0021009305492043495)\n",
      "820: accuracy:0.9700000286102295 loss:8.762024879455566 (lr:0.0020909507293254137)\n",
      "830: accuracy:1.0 loss:1.0636988878250122 (lr:0.00208102073520422)\n",
      "840: accuracy:0.9800000190734863 loss:3.2064943313598633 (lr:0.002071140566840768)\n",
      "850: accuracy:1.0 loss:0.9395076632499695 (lr:0.002061309525743127)\n",
      "860: accuracy:1.0 loss:3.0294976234436035 (lr:0.0020515271462500095)\n",
      "870: accuracy:1.0 loss:1.2438673973083496 (lr:0.002041793894022703)\n",
      "880: accuracy:0.9800000190734863 loss:5.025793075561523 (lr:0.0020321093033999205)\n",
      "890: accuracy:1.0 loss:1.1006050109863281 (lr:0.002022472908720374)\n",
      "900: accuracy:0.9700000286102295 loss:7.187697410583496 (lr:0.0020128844771534204)\n",
      "900: ******** test accuracy: 0.9746999740600586 test loss: 1035.771240234375\n",
      "910: accuracy:1.0 loss:1.6806761026382446 (lr:0.0020033440086990595)\n",
      "920: accuracy:1.0 loss:1.3582149744033813 (lr:0.001993851037696004)\n"
     ]
    },
    {
     "name": "stdout",
     "output_type": "stream",
     "text": [
      "930: accuracy:1.0 loss:0.5913202166557312 (lr:0.0019844050984829664)\n",
      "940: accuracy:1.0 loss:1.3453789949417114 (lr:0.0019750066567212343)\n",
      "950: accuracy:0.9900000095367432 loss:1.7747830152511597 (lr:0.0019656552467495203)\n",
      "960: accuracy:1.0 loss:1.236012578010559 (lr:0.0019563501700758934)\n",
      "970: accuracy:1.0 loss:1.853969693183899 (lr:0.0019470915431156754)\n",
      "980: accuracy:1.0 loss:0.845487117767334 (lr:0.0019378792494535446)\n",
      "990: accuracy:0.9900000095367432 loss:1.9294251203536987 (lr:0.00192871259059757)\n",
      "1000: accuracy:1.0 loss:0.9650002121925354 (lr:0.001919591915793717)\n",
      "1000: ******** test accuracy: 0.9814000129699707 test loss: 1020.56982421875\n",
      "1010: accuracy:0.9599999785423279 loss:16.393333435058594 (lr:0.0019105166429653764)\n",
      "1020: accuracy:0.9900000095367432 loss:3.5150673389434814 (lr:0.0019014865392819047)\n",
      "1030: accuracy:1.0 loss:0.7717859745025635 (lr:0.0018925016047433019)\n",
      "1040: accuracy:0.9700000286102295 loss:6.396111965179443 (lr:0.0018835614901036024)\n",
      "1050: accuracy:0.9900000095367432 loss:6.6839680671691895 (lr:0.0018746658461168408)\n",
      "1060: accuracy:1.0 loss:1.2511272430419922 (lr:0.001865814789198339)\n",
      "1070: accuracy:0.9599999785423279 loss:6.292105674743652 (lr:0.0018570076208561659)\n",
      "1080: accuracy:1.0 loss:2.3918440341949463 (lr:0.001848244690336287)\n",
      "1090: accuracy:0.9800000190734863 loss:5.536012649536133 (lr:0.0018395251827314496)\n",
      "1100: accuracy:0.9900000095367432 loss:2.6255433559417725 (lr:0.0018308493308722973)\n",
      "1100: ******** test accuracy: 0.978600025177002 test loss: 959.9609375\n",
      "1110: accuracy:0.9900000095367432 loss:2.0644290447235107 (lr:0.0018222166690975428)\n",
      "1120: accuracy:0.9900000095367432 loss:2.614457368850708 (lr:0.001813627197407186)\n",
      "1130: accuracy:1.0 loss:1.4448753595352173 (lr:0.0018050804501399398)\n",
      "1140: accuracy:1.0 loss:3.2684671878814697 (lr:0.0017965761944651604)\n",
      "1150: accuracy:1.0 loss:1.832627534866333 (lr:0.0017881145467981696)\n",
      "1160: accuracy:0.9900000095367432 loss:1.4943240880966187 (lr:0.0017796949250623584)\n",
      "1170: accuracy:1.0 loss:1.4607481956481934 (lr:0.0017713174456730485)\n",
      "1180: accuracy:0.9800000190734863 loss:4.0511040687561035 (lr:0.0017629817593842745)\n",
      "1190: accuracy:0.9900000095367432 loss:5.078634738922119 (lr:0.0017546876333653927)\n",
      "1200: accuracy:0.9900000095367432 loss:2.203090190887451 (lr:0.0017464348347857594)\n",
      "1200: ******** test accuracy: 0.9796000123023987 test loss: 1017.877685546875\n",
      "1210: accuracy:0.9900000095367432 loss:3.175906181335449 (lr:0.0017382231308147311)\n",
      "1220: accuracy:0.9800000190734863 loss:8.9501314163208 (lr:0.0017300526378676295)\n",
      "1230: accuracy:1.0 loss:1.6223065853118896 (lr:0.0017219226574525237)\n",
      "1240: accuracy:1.0 loss:1.0438904762268066 (lr:0.0017138333059847355)\n",
      "1250: accuracy:0.9700000286102295 loss:6.996125221252441 (lr:0.0017057841178029776)\n",
      "1260: accuracy:0.9900000095367432 loss:2.394702911376953 (lr:0.0016977754421532154)\n",
      "1270: accuracy:1.0 loss:1.5201783180236816 (lr:0.0016898063477128744)\n",
      "1280: accuracy:0.9900000095367432 loss:2.346707344055176 (lr:0.0016818773001432419)\n",
      "1290: accuracy:0.9900000095367432 loss:2.6199910640716553 (lr:0.001673987484537065)\n",
      "1300: accuracy:0.9900000095367432 loss:3.752833127975464 (lr:0.0016661373665556312)\n",
      "1300: ******** test accuracy: 0.9790999889373779 test loss: 931.9585571289062\n",
      "1310: accuracy:1.0 loss:1.3101643323898315 (lr:0.0016583260148763657)\n",
      "1320: accuracy:1.0 loss:0.6096019148826599 (lr:0.0016505538951605558)\n",
      "1330: accuracy:0.9900000095367432 loss:3.4166314601898193 (lr:0.0016428205417469144)\n",
      "1340: accuracy:0.9900000095367432 loss:10.107922554016113 (lr:0.0016351256053894758)\n",
      "1350: accuracy:0.9900000095367432 loss:2.611990213394165 (lr:0.001627469202503562)\n",
      "1360: accuracy:1.0 loss:1.1654564142227173 (lr:0.0016198508674278855)\n",
      "1370: accuracy:1.0 loss:2.004689931869507 (lr:0.0016122704837471247)\n",
      "1380: accuracy:1.0 loss:0.6705881357192993 (lr:0.0016047279350459576)\n",
      "1390: accuracy:1.0 loss:0.29386502504348755 (lr:0.0015972232213243842)\n",
      "1400: accuracy:0.9900000095367432 loss:1.863643765449524 (lr:0.0015897557605057955)\n",
      "1400: ******** test accuracy: 0.9807000160217285 test loss: 836.1314086914062\n",
      "1410: accuracy:1.0 loss:0.421527624130249 (lr:0.0015823256690055132)\n",
      "1420: accuracy:1.0 loss:1.3263750076293945 (lr:0.00157493248116225)\n",
      "1430: accuracy:1.0 loss:0.2853686809539795 (lr:0.001567576196976006)\n",
      "1440: accuracy:0.9900000095367432 loss:2.1042652130126953 (lr:0.0015602567000314593)\n",
      "1450: accuracy:0.9800000190734863 loss:4.364713191986084 (lr:0.0015529736410826445)\n",
      "1460: accuracy:1.0 loss:0.7905405163764954 (lr:0.0015457269037142396)\n",
      "1470: accuracy:1.0 loss:1.9527945518493652 (lr:0.001538516255095601)\n",
      "1480: accuracy:1.0 loss:0.7064335942268372 (lr:0.001531341695226729)\n",
      "1490: accuracy:1.0 loss:0.493858277797699 (lr:0.001524202642031014)\n",
      "1500: accuracy:1.0 loss:1.2484592199325562 (lr:0.0015170994447544217)\n",
      "1500: ******** test accuracy: 0.9805999994277954 test loss: 1007.0768432617188\n",
      "1510: accuracy:0.9900000095367432 loss:3.031127691268921 (lr:0.0015100316377356648)\n",
      "1520: accuracy:1.0 loss:0.6348403692245483 (lr:0.0015029989881440997)\n",
      "1530: accuracy:1.0 loss:0.6699919104576111 (lr:0.00149600172881037)\n",
      "1540: accuracy:0.9900000095367432 loss:1.3584109544754028 (lr:0.0014890391612425447)\n",
      "1550: accuracy:1.0 loss:1.6908869743347168 (lr:0.0014821112854406238)\n",
      "1560: accuracy:0.9900000095367432 loss:2.1196155548095703 (lr:0.0014752179849892855)\n",
      "1570: accuracy:0.9900000095367432 loss:1.5407307147979736 (lr:0.001468359143473208)\n",
      "1580: accuracy:1.0 loss:0.14396381378173828 (lr:0.001461534295231104)\n",
      "1590: accuracy:1.0 loss:1.1674902439117432 (lr:0.001454743673093617)\n",
      "1600: accuracy:1.0 loss:1.0761510133743286 (lr:0.0014479868113994598)\n",
      "1600: ******** test accuracy: 0.9836999773979187 test loss: 809.2349243164062\n",
      "1610: accuracy:0.9900000095367432 loss:1.558372974395752 (lr:0.0014412635937333107)\n",
      "1620: accuracy:1.0 loss:1.0245006084442139 (lr:0.0014345741365104914)\n",
      "1630: accuracy:0.9900000095367432 loss:1.3378311395645142 (lr:0.0014279178576543927)\n",
      "1640: accuracy:1.0 loss:0.7805245518684387 (lr:0.0014212947571650147)\n",
      "1650: accuracy:1.0 loss:0.48196879029273987 (lr:0.0014147048350423574)\n",
      "1660: accuracy:1.0 loss:0.9297369122505188 (lr:0.0014081477420404553)\n",
      "1670: accuracy:0.9900000095367432 loss:1.3147106170654297 (lr:0.0014016233617439866)\n",
      "1680: accuracy:0.9900000095367432 loss:1.4754124879837036 (lr:0.0013951313449069858)\n",
      "1690: accuracy:0.9900000095367432 loss:2.6645889282226562 (lr:0.0013886719243600965)\n",
      "1700: accuracy:1.0 loss:2.6606810092926025 (lr:0.0013822447508573532)\n",
      "1700: ******** test accuracy: 0.9786999821662903 test loss: 955.8195190429688\n",
      "1710: accuracy:0.9800000190734863 loss:8.284337997436523 (lr:0.0013758495915681124)\n",
      "1720: accuracy:0.9900000095367432 loss:4.359131336212158 (lr:0.0013694862136617303)\n",
      "1730: accuracy:1.0 loss:0.9269058704376221 (lr:0.0013631545007228851)\n",
      "1740: accuracy:0.9900000095367432 loss:3.155236005783081 (lr:0.001356854452751577)\n",
      "1750: accuracy:1.0 loss:0.8599931597709656 (lr:0.0013505859533324838)\n",
      "1760: accuracy:1.0 loss:0.5180749297142029 (lr:0.0013443486532196403)\n",
      "1770: accuracy:0.9800000190734863 loss:2.8685896396636963 (lr:0.0013381424359977245)\n",
      "1780: accuracy:1.0 loss:1.209244728088379 (lr:0.0013319671852514148)\n",
      "1790: accuracy:1.0 loss:0.3605708181858063 (lr:0.0013258226681500673)\n",
      "1800: accuracy:1.0 loss:1.2704296112060547 (lr:0.0013197088846936822)\n",
      "1800: ******** test accuracy: 0.982200026512146 test loss: 896.2050170898438\n",
      "1810: accuracy:1.0 loss:1.8222142457962036 (lr:0.0013136254856362939)\n",
      "1820: accuracy:1.0 loss:0.24535450339317322 (lr:0.0013075725873932242)\n",
      "1830: accuracy:1.0 loss:0.6276077032089233 (lr:0.001301549724303186)\n",
      "1840: accuracy:0.9900000095367432 loss:5.3721489906311035 (lr:0.0012955570127815008)\n",
      "1850: accuracy:0.9800000190734863 loss:9.77694320678711 (lr:0.0012895942199975252)\n",
      "1860: accuracy:1.0 loss:0.6020952463150024 (lr:0.0012836609967052937)\n",
      "1870: accuracy:1.0 loss:1.3472830057144165 (lr:0.001277757459320128)\n",
      "1880: accuracy:1.0 loss:0.9408558011054993 (lr:0.0012718833750113845)\n",
      "1890: accuracy:1.0 loss:0.6806813478469849 (lr:0.0012660386273637414)\n",
      "1900: accuracy:1.0 loss:0.7370650768280029 (lr:0.001260222983546555)\n",
      "1900: ******** test accuracy: 0.9839000105857849 test loss: 833.6243896484375\n"
     ]
    },
    {
     "name": "stdout",
     "output_type": "stream",
     "text": [
      "1910: accuracy:1.0 loss:0.2219347357749939 (lr:0.0012544363271445036)\n",
      "1920: accuracy:0.9900000095367432 loss:5.134439468383789 (lr:0.0012486785417422652)\n",
      "1930: accuracy:1.0 loss:0.9207942485809326 (lr:0.001242949510924518)\n",
      "1940: accuracy:1.0 loss:0.47080865502357483 (lr:0.0012372490018606186)\n",
      "1950: accuracy:1.0 loss:1.2955037355422974 (lr:0.0012315770145505667)\n",
      "1960: accuracy:0.9900000095367432 loss:2.417428493499756 (lr:0.0012259331997483969)\n",
      "1970: accuracy:1.0 loss:0.6553899049758911 (lr:0.0012203175574541092)\n",
      "1980: accuracy:1.0 loss:0.49434810876846313 (lr:0.00121472985483706)\n",
      "1990: accuracy:0.9900000095367432 loss:1.8686177730560303 (lr:0.0012091703247278929)\n",
      "2000: accuracy:1.0 loss:0.46403393149375916 (lr:0.001203638268634677)\n",
      "2000: ******** test accuracy: 0.9843000173568726 test loss: 821.3646240234375\n"
     ]
    },
    {
     "data": {
      "text/plain": [
       "0..2000"
      ]
     },
     "execution_count": 9,
     "metadata": {},
     "output_type": "execute_result"
    }
   ],
   "source": [
    "(0..EPOCH).each do |i|\n",
    "  # load batch of images and correct answers\n",
    "  batch_x, batch_y = mnist_train.next_batch(100)\n",
    "  train_data = { x => batch_x, y_ => batch_y, step_ => i, pkeep => 0.75 }\n",
    "\n",
    "  # train\n",
    "  sess.run(train_step, feed_dict: train_data)\n",
    "\n",
    "  if (i % 10 == 0)\n",
    "    # result = TensorStream::ReportTool.profile_for(sess)\n",
    "    # File.write(\"profile.csv\", result.map(&:to_csv).join(\"\\n\"))\n",
    "    # success? add code to print it\n",
    "    a_train, c_train, l = sess.run([accuracy, cross_entropy, lr], feed_dict: { x => batch_x, y_ => batch_y, step_ => i, pkeep => 1.0})\n",
    "    puts \"#{i}: accuracy:#{a_train} loss:#{c_train} (lr:#{l})\"\n",
    "  end\n",
    "\n",
    "  if (i % 100 == 0)\n",
    "    # success on test data?\n",
    "    a_test, c_test = sess.run([accuracy, cross_entropy], feed_dict: test_data, pkeep => 1.0)\n",
    "    puts(\"#{i}: ******** test accuracy: #{a_test} test loss: #{c_test}\")\n",
    "\n",
    "    # save current state of the model\n",
    "    save_path = saver.save(sess, model_save_path)\n",
    "  end\n",
    "end\n",
    "\n"
   ]
  }
 ],
 "metadata": {
  "kernelspec": {
   "display_name": "Ruby 2.5.1",
   "language": "ruby",
   "name": "ruby"
  },
  "language_info": {
   "file_extension": ".rb",
   "mimetype": "application/x-ruby",
   "name": "ruby",
   "version": "2.5.1"
  }
 },
 "nbformat": 4,
 "nbformat_minor": 2
}
